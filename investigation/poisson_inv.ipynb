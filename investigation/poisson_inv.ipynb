{
 "cells": [
  {
   "cell_type": "code",
   "execution_count": null,
   "metadata": {},
   "outputs": [],
   "source": [
    "import fluid_fvm.physics as ph\n",
    "import matplotlib.pyplot as plt\n",
    "import fluid_fvm.geometry as geo\n",
    "import fluid_fvm.project as pr\n",
    "import fluid_fvm.mesh as ms\n",
    "import fluid_fvm.discretization as dc\n",
    "import numpy as np\n",
    "\n",
    "a = geo.Assembly(base_polygon=geo.Polygon([geo.Vector(0,0),geo.Vector(0.2,0),geo.Vector(0.2,0.2), geo.Vector(0,0.2)]), \n",
    "                 polygon_list=[geo.Polygon([geo.Vector(0,0),geo.Vector(0.2,0),geo.Vector(0.2,0.1), geo.Vector(0,0.1)])])\n",
    "a.assemble()\n",
    "\n",
    "mat = pr.Material(\"test\", mu = 1, rho = 156, color = \"#ffbbcc\")\n",
    "mat2 = pr.Material(\"test2\", mu = 1, rho = 1056, color = \"#ff11cc\")\n",
    "\n",
    "comp = pr.Component()\n",
    "\n",
    "comp.setAssembly(a)\n",
    "comp.assignMaterial(\"Polygon_0\", mat)\n",
    "comp.assignMaterial(\"Polygon_1\", mat2)\n",
    "\n",
    "\n",
    "\n",
    "mesh_c = ms.RectangularConfig(20,20)\n",
    "comp.setMesh(mesh_c)\n",
    "\n",
    "bcdict = {\"Line_0\" : ph.Boundary(\"Dirichlet\", 0),\n",
    "          \"Line_1\" : ph.Boundary(\"Neumann\", 0),\n",
    "          \"Line_2\" : ph.Boundary(\"Dirichlet\", 10),\n",
    "          \"Line_3\" : ph.Boundary(\"Neumann\", 0),}\n",
    "\n",
    "flowDirection = geo.Vector(x=1,y = 0)\n",
    "c = ph.CouetteFlow(a, bcdict, flowDirectionUnitVector=flowDirection)\n",
    "\n",
    "\n",
    "comp.setPhysics(c)\n",
    "node = 6\n",
    "neighbour = 3\n",
    "fig, ax = plt.subplots()\n",
    "\n",
    "comp.assembly.plot(ax, labels = True)\n",
    "#mesh_c.plotMesh(ax, vTexts=True)\n",
    "flowDirection.plotAsVector(ax, vect_0=geo.Vector(0,0.05), scale=0.1)"
   ]
  }
 ],
 "metadata": {
  "language_info": {
   "name": "python"
  }
 },
 "nbformat": 4,
 "nbformat_minor": 2
}
